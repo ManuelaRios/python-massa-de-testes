{
 "cells": [
  {
   "cell_type": "code",
   "execution_count": 1,
   "metadata": {},
   "outputs": [],
   "source": [
    "from pymongo import MongoClient"
   ]
  },
  {
   "cell_type": "code",
   "execution_count": 2,
   "metadata": {},
   "outputs": [],
   "source": [
    "#conexão com o banco\n",
    "mongoclient = MongoClient(\n",
    "   host='mongodb://192.168.5.98:27017',\n",
    "   authSource='admin'\n",
    ")"
   ]
  },
  {
   "cell_type": "code",
   "execution_count": 3,
   "metadata": {},
   "outputs": [],
   "source": [
    "#recebendo a base e a collection\n",
    "\n",
    "db_parceiro = mongoclient[\"parceiro_dev\"]\n",
    "\n",
    "coll_parceiro_fornecedor = db_parceiro[\"clienteFornecedor\"]"
   ]
  },
  {
   "cell_type": "code",
   "execution_count": 4,
   "metadata": {},
   "outputs": [],
   "source": [
    "#criando a query e o cursor\n",
    "contmaticId = 32725\n",
    "\n",
    "query = {\"fornecedor\": True, \"_id.contmaticId\": contmaticId}\n",
    "\n",
    "projection = {\n",
    "    \"_id\": 1, \n",
    "} \n",
    "\n",
    "cursor = coll_parceiro_fornecedor.find(query, projection).limit(20)"
   ]
  },
  {
   "cell_type": "code",
   "execution_count": 5,
   "metadata": {},
   "outputs": [],
   "source": [
    "#criando a lista do cursor\n",
    "parceiro_fornecedor = list(cursor)\n",
    "cursor.close()"
   ]
  },
  {
   "cell_type": "code",
   "execution_count": 6,
   "metadata": {},
   "outputs": [
    {
     "data": {
      "text/plain": [
       "['50988433000175',\n",
       " 'E1243678',\n",
       " '00408186000112',\n",
       " '13006389000124',\n",
       " '11856834000110',\n",
       " '42793727806',\n",
       " '11892508000168',\n",
       " '84532464000139',\n",
       " '06092085000161',\n",
       " '18616297000180',\n",
       " '63691711000170',\n",
       " '12761512000150',\n",
       " '09658625000110',\n",
       " '04501427000124',\n",
       " '24740616000167',\n",
       " '10721684000174',\n",
       " '08685474000126',\n",
       " '04944735000124',\n",
       " '08430976000106',\n",
       " '24600852000188']"
      ]
     },
     "execution_count": 6,
     "metadata": {},
     "output_type": "execute_result"
    }
   ],
   "source": [
    "list(map(lambda x: x[\"_id\"][\"documento\"], parceiro_fornecedor))"
   ]
  }
 ],
 "metadata": {
  "kernelspec": {
   "display_name": "Python 3",
   "language": "python",
   "name": "python3"
  },
  "language_info": {
   "codemirror_mode": {
    "name": "ipython",
    "version": 3
   },
   "file_extension": ".py",
   "mimetype": "text/x-python",
   "name": "python",
   "nbconvert_exporter": "python",
   "pygments_lexer": "ipython3",
   "version": "3.11.1"
  },
  "orig_nbformat": 4,
  "vscode": {
   "interpreter": {
    "hash": "5898ca650fd90390a4032ee8cab354a3166b2bb5315b877dfa36c3d9bea3613c"
   }
  }
 },
 "nbformat": 4,
 "nbformat_minor": 2
}
