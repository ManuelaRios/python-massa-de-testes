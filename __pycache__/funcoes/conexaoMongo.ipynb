{
 "cells": [
  {
   "cell_type": "code",
   "execution_count": 22,
   "metadata": {},
   "outputs": [],
   "source": [
    "from pymongo import MongoClient\n",
    "import random"
   ]
  },
  {
   "cell_type": "code",
   "execution_count": 23,
   "metadata": {},
   "outputs": [],
   "source": [
    "#conexão com o banco\n",
    "mongoclient = MongoClient(\n",
    "   host='mongodb://192.168.5.98:27017',\n",
    "   authSource='admin'\n",
    ")"
   ]
  },
  {
   "cell_type": "code",
   "execution_count": 24,
   "metadata": {},
   "outputs": [],
   "source": [
    "#recebendo a base e a collection\n",
    "\n",
    "db_parceiro = mongoclient[\"parceiro_dev\"]\n",
    "\n",
    "coll_parceiro_fornecedor = db_parceiro[\"clienteFornecedor\"]"
   ]
  },
  {
   "cell_type": "code",
   "execution_count": 25,
   "metadata": {},
   "outputs": [],
   "source": [
    "#criando a query e o cursor\n",
    "contmaticId = 32725\n",
    "\n",
    "query = {\"fornecedor\": True, \"_id.contmaticId\": contmaticId}\n",
    "\n",
    "projection = {\n",
    "    \"_id\": 1, \n",
    "} \n",
    "\n",
    "cursor = coll_parceiro_fornecedor.find(query, projection).limit(20)"
   ]
  },
  {
   "cell_type": "code",
   "execution_count": 26,
   "metadata": {},
   "outputs": [],
   "source": [
    "#criando a lista do cursor\n",
    "parceiro_fornecedor = list(cursor)\n",
    "cursor.close()"
   ]
  },
  {
   "cell_type": "code",
   "execution_count": 27,
   "metadata": {},
   "outputs": [],
   "source": [
    "documentoFornecedor = list(map(lambda x: x[\"_id\"][\"documento\"], parceiro_fornecedor))"
   ]
  },
  {
   "cell_type": "code",
   "execution_count": 28,
   "metadata": {},
   "outputs": [],
   "source": [
    "def generateDocumentoFornecedor():\n",
    "    return random.choice(documentoFornecedor)"
   ]
  },
  {
   "cell_type": "code",
   "execution_count": 29,
   "metadata": {},
   "outputs": [
    {
     "data": {
      "text/plain": [
       "'84532464000139'"
      ]
     },
     "execution_count": 29,
     "metadata": {},
     "output_type": "execute_result"
    }
   ],
   "source": [
    "generateDocumentoFornecedor()"
   ]
  }
 ],
 "metadata": {
  "kernelspec": {
   "display_name": "Python 3",
   "language": "python",
   "name": "python3"
  },
  "language_info": {
   "codemirror_mode": {
    "name": "ipython",
    "version": 3
   },
   "file_extension": ".py",
   "mimetype": "text/x-python",
   "name": "python",
   "nbconvert_exporter": "python",
   "pygments_lexer": "ipython3",
   "version": "3.11.1"
  },
  "orig_nbformat": 4,
  "vscode": {
   "interpreter": {
    "hash": "5898ca650fd90390a4032ee8cab354a3166b2bb5315b877dfa36c3d9bea3613c"
   }
  }
 },
 "nbformat": 4,
 "nbformat_minor": 2
}
